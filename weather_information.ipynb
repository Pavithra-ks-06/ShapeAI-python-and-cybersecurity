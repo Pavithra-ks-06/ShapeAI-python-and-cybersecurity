{
  "nbformat": 4,
  "nbformat_minor": 0,
  "metadata": {
    "colab": {
      "name": "weather information",
      "provenance": [],
      "collapsed_sections": []
    },
    "kernelspec": {
      "name": "python3",
      "display_name": "Python 3"
    },
    "language_info": {
      "name": "python"
    }
  },
  "cells": [
    {
      "cell_type": "code",
      "metadata": {
        "id": "nDpXYDU5sg5i"
      },
      "source": [
        "import requests\n",
        "from datetime import datetime\n",
        " \n",
        "api_key ='b1e8cd25a86325ae32254e6c4c20e6eb'\n",
        "location =input(\"Enter the city name: \")\n",
        " \n",
        "complete_api_link =\"https://api.openweathermap.org/data/2.5/weather?q=\"+location+\"&appid=\"+api_key\n",
        "api_link =requests.get(complete_api_link)\n",
        "api_data =api_link.json()\n",
        "#creating varible to store data\n",
        "temp_city = ((api_data['main']['temp']) -273.15)\n",
        "#called temperature to tmp_city variable\n",
        "weather_desc = api_data['weather'][0]['description']\n",
        "#calling description\n",
        "hmdt = api_data['main']['humidity']\n",
        "#calling humidity\n",
        "wind_spd = api_data['wind']['speed']\n",
        "#calling wind speed\n",
        "date_time =datetime.now().strftime(\"%d%b%Y | %I:%M:%S%p\")\n",
        " \n",
        "print(\"-------------------------------------------------------------\")\n",
        "wheather_rep =print (\"Weather Stats for - {​​​​​​​​}​​​​​​​​  || {​​​​​​​​}​​​​​​​​\".format(location.upper(), date_time))\n",
        "print(\"-------------------------------------------------------------\")\n",
        " \n",
        "current_temp =print(\"Current temperature is: {​​​​​​​​:.2f}​​​​​​​​ deg C\".format(temp_city))\n",
        "current_weather_desc =print(\"Current weather desc  :\",weather_desc)\n",
        "current_humidity =print(\"Current Humidity      :\",hmdt, '%')\n",
        "current_windspeed =print(\"Current wind speed    :\",wind_spd ,'kmph')\n",
        " \n",
        "#saving in text file\n",
        "f =open(\"weatherreport.txt\", \"a\")\n",
        "f.write(\"-------------------------------------------------------------\\n\")\n",
        "f.write(\"Weather Stats for - {​​​​​​​​}​​​​​​​​  || {​​​​​​​​}​​​​​​​​\\n\".format(location.upper(), date_time))\n",
        "f.write(\"-------------------------------------------------------------\\n\")\n",
        "f.write(\"Current temperature is: {​​​​​​​​:.2f}​​​​​​​​° C\\n\".format(temp_city))\n",
        "f.write(\"Current weather desc  {​​​​​​​​}​​​​​​​​:\\n\".format(weather_desc))\n",
        "f.write(\"Current Humidity      {​​​​​​​​}​​​​​​​​ %:\\n\".format(hmdt))\n",
        "f.write(\"Current wind speed    {​​​​​​​​}​​​​​​​​ kmph:\\n\".format(wind_spd))\n",
        "f.close()\n",
        "\n"
      ],
      "execution_count": null,
      "outputs": []
    }
  ]
}